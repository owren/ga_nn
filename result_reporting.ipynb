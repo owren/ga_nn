{
 "cells": [
  {
   "cell_type": "markdown",
   "id": "689b3ab8-2658-4a0f-a133-38a9cd77e466",
   "metadata": {},
   "source": [
    "# Report results in latex table"
   ]
  },
  {
   "cell_type": "code",
   "execution_count": 6,
   "id": "d48a5e20-b31d-4957-abc3-4851eaa3ed00",
   "metadata": {},
   "outputs": [],
   "source": [
    "import numpy as np\n",
    "import json"
   ]
  },
  {
   "cell_type": "code",
   "execution_count": 2,
   "id": "479f377b-f789-4845-88e4-c7180af9f6cf",
   "metadata": {},
   "outputs": [],
   "source": [
    "# load in results for each generation\n",
    "with open(\"pop_fit_final.json\", \"r\") as f: \n",
    "    result_data = json.load(f)"
   ]
  },
  {
   "cell_type": "code",
   "execution_count": 14,
   "id": "0c8783e4-13c2-4be3-9abb-65ed5f623602",
   "metadata": {},
   "outputs": [
    {
     "name": "stdout",
     "output_type": "stream",
     "text": [
      "1 & 0.894 & 0.838 \\\\ \\hline\n",
      "2 & 0.898 & 0.868 \\\\ \\hline\n",
      "3 & 0.898 & 0.882 \\\\ \\hline\n",
      "4 & 0.913 & 0.887 \\\\ \\hline\n",
      "5 & 0.909 & 0.896 \\\\ \\hline\n",
      "6 & 0.913 & 0.899 \\\\ \\hline\n",
      "7 & 0.923 & 0.909 \\\\ \\hline\n",
      "8 & 0.912 & 0.905 \\\\ \\hline\n",
      "9 & 0.918 & 0.909 \\\\ \\hline\n",
      "10 & 0.914 & 0.907 \\\\ \\hline\n"
     ]
    }
   ],
   "source": [
    "\"\"\"\n",
    "    Format: \n",
    "    ccc   & ccc  & ccc  & ccc \\\\ \\hline\n",
    "\"\"\"\n",
    "for i, generation in enumerate(result_data): \n",
    "    best_fitness_v = max(generation[\"fitness\"])\n",
    "    max_idx = generation[\"fitness\"].index(best_fitness_v)\n",
    "    best_chrom = [round(x, 2) for x in generation[\"population\"][max_idx]]\n",
    "    avg_fitness = round(np.mean(generation[\"fitness\"]), 3)\n",
    "    \n",
    "    print(f\"{i+1} & {round(best_fitness_v, 3)} & {avg_fitness} \\\\\\\\ \\hline\") # & {best_chrom}"
   ]
  },
  {
   "cell_type": "code",
   "execution_count": 15,
   "id": "d5c54455-b784-4f24-83af-f7addd17002e",
   "metadata": {},
   "outputs": [
    {
     "name": "stdout",
     "output_type": "stream",
     "text": [
      "1 & [0.91, 0.86, 0.52, 0.13, 0.64, 0.23, 0.48, 0.98, 0.26] \\\\ \\hline\n",
      "2 & [0.62, 0.71, 0.35, 0.13, 0.58, 0.23, 0.48, 0.18, 0.51] \\\\ \\hline\n",
      "3 & [0.62, 0.86, 0.19, 0.13, 0.64, 0.15, 0.3, 0.08, 0.51] \\\\ \\hline\n",
      "4 & [0.91, 0.71, 0.19, 0.0, 0.58, 0.23, 0.3, 0.08, 0.51] \\\\ \\hline\n",
      "5 & [0.78, 0.86, 0.49, 0.12, 0.5, 0.15, 0.44, 0.08, 0.38] \\\\ \\hline\n",
      "6 & [0.62, 0.86, 0.42, 0.0, 0.57, 0.21, 0.31, 0.08, 0.38] \\\\ \\hline\n",
      "7 & [0.62, 0.86, 0.49, 0.0, 0.31, 0.15, 0.31, 0.08, 0.43] \\\\ \\hline\n",
      "8 & [0.71, 0.76, 0.49, 0.0, 0.31, 0.15, 0.31, 0.08, 0.49] \\\\ \\hline\n",
      "9 & [0.71, 0.86, 0.48, 0.0, 0.52, 0.15, 0.31, 0.08, 0.49] \\\\ \\hline\n",
      "10 & [0.71, 0.86, 0.48, 0.0, 0.47, 0.3, 0.19, 0.08, 0.49] \\\\ \\hline\n"
     ]
    }
   ],
   "source": [
    "for i, generation in enumerate(result_data): \n",
    "    best_fitness_v = max(generation[\"fitness\"])\n",
    "    max_idx = generation[\"fitness\"].index(best_fitness_v)\n",
    "    best_chrom = [round(x, 2) for x in generation[\"population\"][max_idx]]\n",
    "    avg_fitness = round(np.mean(generation[\"fitness\"]), 3)\n",
    "    \n",
    "    print(f\"{i+1} & {best_chrom} \\\\\\\\ \\hline\")"
   ]
  },
  {
   "cell_type": "code",
   "execution_count": null,
   "id": "f383684d-c7e4-437d-81f8-42e0c105f4b8",
   "metadata": {},
   "outputs": [],
   "source": []
  }
 ],
 "metadata": {
  "kernelspec": {
   "display_name": "Python 3",
   "language": "python",
   "name": "python3"
  },
  "language_info": {
   "codemirror_mode": {
    "name": "ipython",
    "version": 3
   },
   "file_extension": ".py",
   "mimetype": "text/x-python",
   "name": "python",
   "nbconvert_exporter": "python",
   "pygments_lexer": "ipython3",
   "version": "3.8.12"
  }
 },
 "nbformat": 4,
 "nbformat_minor": 5
}
