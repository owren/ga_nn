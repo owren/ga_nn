{
 "cells": [
  {
   "cell_type": "markdown",
   "id": "585a025b",
   "metadata": {},
   "source": [
    "# Fashion MNIST CNN"
   ]
  },
  {
   "cell_type": "code",
   "execution_count": 14,
   "id": "7b4dbc6e",
   "metadata": {},
   "outputs": [],
   "source": [
    "# baseline cnn model for fashion mnist\n",
    "from numpy import mean\n",
    "from numpy import std\n",
    "from matplotlib import pyplot\n",
    "from sklearn.model_selection import KFold\n",
    "from tensorflow.keras.datasets import fashion_mnist\n",
    "from tensorflow.keras.utils import to_categorical\n",
    "from tensorflow.keras.models import Sequential\n",
    "from tensorflow.keras.layers import Conv2D, MaxPooling2D, Dense, Flatten, Dropout\n",
    "from tensorflow.keras.optimizers import SGD\n",
    "import tensorflow as tf\n",
    "\n",
    "import sys"
   ]
  },
  {
   "cell_type": "code",
   "execution_count": 2,
   "id": "a1a7cef4",
   "metadata": {},
   "outputs": [],
   "source": [
    "device_name = \"/gpu:0\""
   ]
  },
  {
   "cell_type": "code",
   "execution_count": 3,
   "id": "bcc7f088",
   "metadata": {},
   "outputs": [],
   "source": [
    "# load train and test dataset\n",
    "def load_dataset():\n",
    "    # load dataset\n",
    "    (trainX, trainY), (testX, testY) = fashion_mnist.load_data()\n",
    "    # reshape dataset to have a single channel\n",
    "    trainX = trainX.reshape((trainX.shape[0], 28, 28, 1))\n",
    "    testX = testX.reshape((testX.shape[0], 28, 28, 1))\n",
    "    # one hot encode target values\n",
    "    trainY = to_categorical(trainY)\n",
    "    testY = to_categorical(testY)\n",
    "    return trainX, trainY, testX, testY"
   ]
  },
  {
   "cell_type": "code",
   "execution_count": 4,
   "id": "0ab7fff5",
   "metadata": {},
   "outputs": [],
   "source": [
    "# scale pixels\n",
    "def prep_pixels(train, test):\n",
    "    # convert from integers to floats\n",
    "    train_norm = train.astype('float32')\n",
    "    test_norm = test.astype('float32')\n",
    "    # normalize to range 0-1\n",
    "    train_norm = train_norm / 255.0\n",
    "    test_norm = test_norm / 255.0\n",
    "    # return normalized images\n",
    "    return train_norm, test_norm"
   ]
  },
  {
   "cell_type": "code",
   "execution_count": 5,
   "id": "ef248d1b",
   "metadata": {},
   "outputs": [],
   "source": [
    "# define cnn model\n",
    "def define_model():\n",
    "    model = Sequential()\n",
    "    model.add(Conv2D(32, (3, 3), activation='relu', kernel_initializer='he_uniform', input_shape=(28, 28, 1)))\n",
    "    model.add(MaxPooling2D((2, 2)))\n",
    "    model.add(Flatten())\n",
    "    model.add(Dense(100, activation='relu', kernel_initializer='he_uniform'))\n",
    "    model.add(Dense(10, activation='softmax'))\n",
    "    # compile model\n",
    "    opt = SGD(lr=0.01, momentum=0.9)\n",
    "    model.compile(optimizer=opt, loss='categorical_crossentropy', metrics=['accuracy'])\n",
    "    return model"
   ]
  },
  {
   "cell_type": "code",
   "execution_count": 6,
   "id": "d7e97a30",
   "metadata": {},
   "outputs": [],
   "source": [
    "# evaluate a model using k-fold cross-validation\n",
    "def evaluate_model(dataX, dataY, n_folds=3):\n",
    "    scores, histories = list(), list()\n",
    "    # prepare cross validation\n",
    "    kfold = KFold(n_folds, shuffle=True, random_state=1)\n",
    "    # enumerate splits\n",
    "    for train_ix, test_ix in kfold.split(dataX):\n",
    "        # define model\n",
    "        model = define_model()\n",
    "        # select rows for train and test\n",
    "        trainX, trainY, testX, testY = dataX[train_ix], dataY[train_ix], dataX[test_ix], dataY[test_ix]\n",
    "        # fit model\n",
    "        history = model.fit(trainX, trainY, epochs=10, batch_size=32, validation_data=(testX, testY), verbose=0)\n",
    "        # evaluate model\n",
    "        _, acc = model.evaluate(testX, testY, verbose=0)\n",
    "        print('> %.3f' % (acc * 100.0))\n",
    "        # append scores\n",
    "        scores.append(acc)\n",
    "        histories.append(history)\n",
    "    return scores, histories"
   ]
  },
  {
   "cell_type": "code",
   "execution_count": 7,
   "id": "bf49dcf1",
   "metadata": {},
   "outputs": [],
   "source": [
    "# plot diagnostic learning curves\n",
    "def summarize_diagnostics(histories):\n",
    "    for i in range(len(histories)):\n",
    "        # plot loss\n",
    "        pyplot.subplot(211)\n",
    "        pyplot.title('Cross Entropy Loss')\n",
    "        pyplot.plot(histories[i].history['loss'], color='blue', label='train')\n",
    "        pyplot.plot(histories[i].history['val_loss'], color='orange', label='test')\n",
    "        # plot accuracy\n",
    "        pyplot.subplot(212)\n",
    "        pyplot.title('Classification Accuracy')\n",
    "        pyplot.plot(histories[i].history['accuracy'], color='blue', label='train')\n",
    "        pyplot.plot(histories[i].history['val_accuracy'], color='orange', label='test')\n",
    "    pyplot.show()"
   ]
  },
  {
   "cell_type": "code",
   "execution_count": 8,
   "id": "cf09267f",
   "metadata": {},
   "outputs": [],
   "source": [
    "# summarize model performance\n",
    "def summarize_performance(scores):\n",
    "    # print summary\n",
    "    print('Accuracy: mean=%.3f std=%.3f, n=%d' % (mean(scores)*100, std(scores)*100, len(scores)))\n",
    "    # box and whisker plots of results\n",
    "    pyplot.boxplot(scores)\n",
    "    pyplot.show()"
   ]
  },
  {
   "cell_type": "code",
   "execution_count": 9,
   "id": "9beddd68",
   "metadata": {},
   "outputs": [],
   "source": [
    "# run the test harness for evaluating a model\n",
    "def run_test_harness():\n",
    "    with tf.device(device_name): \n",
    "        # load dataset\n",
    "        trainX, trainY, testX, testY = load_dataset()\n",
    "        # prepare pixel data\n",
    "        trainX, testX = prep_pixels(trainX, testX)\n",
    "        # evaluate model\n",
    "        scores, histories = evaluate_model(trainX, trainY)\n",
    "        # learning curves\n",
    "\n",
    "        summarize_diagnostics(histories)\n",
    "        # summarize estimated performance\n",
    "        summarize_performance(scores)\n",
    " "
   ]
  },
  {
   "cell_type": "code",
   "execution_count": 10,
   "id": "ae3d761a",
   "metadata": {},
   "outputs": [
    {
     "name": "stdout",
     "output_type": "stream",
     "text": [
      "> 90.885\n",
      "> 90.530\n",
      "> 89.840\n"
     ]
    },
    {
     "data": {
      "image/png": "[encoded data removed]",
      "text/plain": [
       "<Figure size 432x288 with 2 Axes>"
      ]
     },
     "metadata": {
      "needs_background": "light"
     },
     "output_type": "display_data"
    },
    {
     "name": "stdout",
     "output_type": "stream",
     "text": [
      "Accuracy: mean=90.418 std=0.434, n=3\n"
     ]
    },
    {
     "data": {
      "image/png": "[encoded data removed]",
      "text/plain": [
       "<Figure size 432x288 with 1 Axes>"
      ]
     },
     "metadata": {
      "needs_background": "light"
     },
     "output_type": "display_data"
    }
   ],
   "source": [
    "# entry point, run the test harness\n",
    "run_test_harness()"
   ]
  },
  {
   "cell_type": "markdown",
   "id": "65fceffd-8474-40cb-8a2c-2dc9b79c8c8b",
   "metadata": {},
   "source": [
    "## Test manually"
   ]
  },
  {
   "cell_type": "code",
   "execution_count": 11,
   "id": "e54fc906-db3d-495e-aaa3-5062dacbd1f2",
   "metadata": {},
   "outputs": [],
   "source": [
    "# load dataset\n",
    "trainX, trainY, testX, testY = load_dataset()\n",
    "# prepare pixel data\n",
    "trainX, testX = prep_pixels(trainX, testX)"
   ]
  },
  {
   "cell_type": "code",
   "execution_count": 12,
   "id": "068cfcbe",
   "metadata": {},
   "outputs": [
    {
     "name": "stdout",
     "output_type": "stream",
     "text": [
      "Epoch 1/10\n",
      "1500/1500 [==============================] - 10s 6ms/step - loss: 0.5866 - accuracy: 0.7907 - val_loss: 0.3761 - val_accuracy: 0.8583\n",
      "Epoch 2/10\n",
      "1500/1500 [==============================] - 9s 6ms/step - loss: 0.2918 - accuracy: 0.8937 - val_loss: 0.2854 - val_accuracy: 0.8996\n",
      "Epoch 3/10\n",
      "1500/1500 [==============================] - 10s 6ms/step - loss: 0.2464 - accuracy: 0.9090 - val_loss: 0.2753 - val_accuracy: 0.9009\n",
      "Epoch 4/10\n",
      "1500/1500 [==============================] - 10s 6ms/step - loss: 0.2140 - accuracy: 0.9212 - val_loss: 0.2532 - val_accuracy: 0.9083\n",
      "Epoch 5/10\n",
      "1500/1500 [==============================] - 10s 6ms/step - loss: 0.1905 - accuracy: 0.9307 - val_loss: 0.2635 - val_accuracy: 0.9072\n",
      "Epoch 6/10\n",
      "1500/1500 [==============================] - 9s 6ms/step - loss: 0.1638 - accuracy: 0.9383 - val_loss: 0.2702 - val_accuracy: 0.9065\n",
      "Epoch 7/10\n",
      "1500/1500 [==============================] - 9s 6ms/step - loss: 0.1446 - accuracy: 0.9477 - val_loss: 0.2773 - val_accuracy: 0.9086\n",
      "0.9041000008583069\n"
     ]
    }
   ],
   "source": [
    "with tf.device(device_name):\n",
    "    model = define_model()\n",
    "    # fit model\n",
    "    callback = tf.keras.callbacks.EarlyStopping(patience=3)\n",
    "    history = model.fit(trainX, trainY, epochs=10, batch_size=32, validation_split = 0.2, verbose=1, callbacks=[callback])\n",
    "    _, acc = model.evaluate(testX, testY, verbose=0)\n",
    "    print(acc)"
   ]
  },
  {
   "cell_type": "code",
   "execution_count": 13,
   "id": "e9893628-cb61-4b1b-8e1f-982eb22a35d9",
   "metadata": {},
   "outputs": [
    {
     "name": "stdout",
     "output_type": "stream",
     "text": [
      "0.9041000008583069\n"
     ]
    }
   ],
   "source": [
    "print(acc)"
   ]
  },
  {
   "cell_type": "markdown",
   "id": "db440f29-f83a-463b-9f54-bb0dcdc46e75",
   "metadata": {},
   "source": [
    "## Create define_model function with adjustable hyperparameters input"
   ]
  },
  {
   "cell_type": "code",
   "execution_count": 41,
   "id": "4a006c41-3ff8-467b-a6ae-7feeb566e4bc",
   "metadata": {},
   "outputs": [],
   "source": [
    "\"\"\"\n",
    "The target is to maximize the accuracy of the cnn-mnist model:\n",
    "    We start by having a few decisions related to the model. \n",
    "    x1 = 32 or 64 (or 128) filters in each CNN layer\n",
    "    x2 = 50 or 100 neurons in first dense layer\n",
    "    x3 = 1 or 2 CNN layers\n",
    "    x4 = he_uniform or random_normal\n",
    "    x5 = no dropout, (0.1 dropout,) 0.2 dropout\n",
    "    x6 = learning rate 0.005, (0.01) or 0.05 \n",
    "    x7 = kernel size cnn 2, 3\n",
    "    We will use a genetic algorithm to find the best combinations of these hyperparameters. \n",
    "    The fitness-function is based on model accuracy on test-dataset. \n",
    "\"\"\"\n",
    "\n",
    "def define_model_ga(hyperparameter_arr):\n",
    "    neurons_cnn = [32, 64][hyperparameter_arr[0]]\n",
    "    neurons_first = [50, 100][hyperparameter_arr[1]]\n",
    "    cnn_layers = [1, 2][hyperparameter_arr[2]]\n",
    "    initializer = ['he_uniform', 'random_normal'][hyperparameter_arr[3]]\n",
    "    dropout = [False, 0.2][hyperparameter_arr[4]]\n",
    "    learning_rate = [0.005, 0.05][hyperparameter_arr[5]]\n",
    "    kernel_size_cnn = [2, 3][hyperparameter_arr[6]]\n",
    "    \n",
    "    model = Sequential()\n",
    "    for i in range(cnn_layers): \n",
    "        model.add(Conv2D(neurons_cnn, (kernel_size_cnn, kernel_size_cnn), activation='relu', kernel_initializer=initializer, input_shape=(28, 28, 1)))\n",
    "        model.add(MaxPooling2D((2, 2)))\n",
    "    if (dropout): \n",
    "        model.add(Dropout(dropout))\n",
    "    model.add(Flatten())\n",
    "    model.add(Dense(neurons_first, activation='relu', kernel_initializer=initializer))\n",
    "    model.add(Dense(10, activation='softmax'))\n",
    "    # compile model\n",
    "    opt = SGD(lr=learning_rate, momentum=0.9)\n",
    "    model.compile(optimizer=opt, loss='categorical_crossentropy', metrics=['accuracy'])\n",
    "    return model"
   ]
  },
  {
   "cell_type": "markdown",
   "id": "c9dc57bc-1738-4cee-aaab-c06be45f743d",
   "metadata": {},
   "source": [
    "### Test one round of fitting with ga model definition"
   ]
  },
  {
   "cell_type": "code",
   "execution_count": 42,
   "id": "bd244768-d1cc-4405-8fc8-164387cc253e",
   "metadata": {},
   "outputs": [],
   "source": [
    "# load dataset\n",
    "dataX, dataY, data_testX, data_testY = load_dataset()\n",
    "# prepare pixel data\n",
    "dataX, dataX = prep_pixels(dataX, dataX)"
   ]
  },
  {
   "cell_type": "code",
   "execution_count": 47,
   "id": "dfaf963d-861c-496e-8b51-38c8596c634a",
   "metadata": {},
   "outputs": [
    {
     "name": "stdout",
     "output_type": "stream",
     "text": [
      "Epoch 1/10\n",
      "1200/1200 [==============================] - 10s 8ms/step - loss: 0.8929 - accuracy: 0.6844 - val_loss: 0.4704 - val_accuracy: 0.8324\n",
      "Epoch 2/10\n",
      "1200/1200 [==============================] - 10s 8ms/step - loss: 0.4437 - accuracy: 0.8389 - val_loss: 0.3905 - val_accuracy: 0.8603\n",
      "Epoch 3/10\n",
      "1200/1200 [==============================] - 10s 8ms/step - loss: 0.3929 - accuracy: 0.8553 - val_loss: 0.3697 - val_accuracy: 0.8684\n",
      "Epoch 4/10\n",
      "1200/1200 [==============================] - 10s 8ms/step - loss: 0.3422 - accuracy: 0.8794 - val_loss: 0.3541 - val_accuracy: 0.8696\n",
      "Epoch 5/10\n",
      "1200/1200 [==============================] - 10s 8ms/step - loss: 0.3161 - accuracy: 0.8859 - val_loss: 0.3376 - val_accuracy: 0.8745\n",
      "Epoch 6/10\n",
      "1200/1200 [==============================] - 10s 8ms/step - loss: 0.2952 - accuracy: 0.8916 - val_loss: 0.3266 - val_accuracy: 0.8816\n",
      "Epoch 7/10\n",
      "1200/1200 [==============================] - 10s 8ms/step - loss: 0.2760 - accuracy: 0.8987 - val_loss: 0.3091 - val_accuracy: 0.8843\n",
      "Epoch 8/10\n",
      "1200/1200 [==============================] - 10s 8ms/step - loss: 0.2606 - accuracy: 0.9053 - val_loss: 0.2898 - val_accuracy: 0.8949\n",
      "Epoch 9/10\n",
      "1200/1200 [==============================] - 10s 8ms/step - loss: 0.2424 - accuracy: 0.9112 - val_loss: 0.2823 - val_accuracy: 0.8976\n",
      "Epoch 10/10\n",
      "1200/1200 [==============================] - 10s 8ms/step - loss: 0.2274 - accuracy: 0.9166 - val_loss: 0.2977 - val_accuracy: 0.8955\n",
      "> 89.408\n",
      "Epoch 1/10\n",
      "1200/1200 [==============================] - 10s 8ms/step - loss: 0.8978 - accuracy: 0.6827 - val_loss: 0.4783 - val_accuracy: 0.8219\n",
      "Epoch 2/10\n",
      "1200/1200 [==============================] - 9s 8ms/step - loss: 0.4417 - accuracy: 0.8406 - val_loss: 0.3857 - val_accuracy: 0.8600\n",
      "Epoch 3/10\n",
      "1200/1200 [==============================] - 9s 8ms/step - loss: 0.3683 - accuracy: 0.8678 - val_loss: 0.3600 - val_accuracy: 0.8666\n",
      "Epoch 4/10\n",
      "1200/1200 [==============================] - 9s 8ms/step - loss: 0.3429 - accuracy: 0.8739 - val_loss: 0.3398 - val_accuracy: 0.8782\n",
      "Epoch 5/10\n",
      "1200/1200 [==============================] - 9s 8ms/step - loss: 0.3062 - accuracy: 0.8886 - val_loss: 0.3115 - val_accuracy: 0.8867\n",
      "Epoch 6/10\n",
      "1200/1200 [==============================] - 9s 8ms/step - loss: 0.2762 - accuracy: 0.8991 - val_loss: 0.3118 - val_accuracy: 0.8875\n",
      "Epoch 7/10\n",
      "1200/1200 [==============================] - 9s 8ms/step - loss: 0.2633 - accuracy: 0.9014 - val_loss: 0.3028 - val_accuracy: 0.8897\n",
      "Epoch 8/10\n",
      "1200/1200 [==============================] - 9s 8ms/step - loss: 0.2508 - accuracy: 0.9060 - val_loss: 0.2939 - val_accuracy: 0.8940\n",
      "Epoch 9/10\n",
      "1200/1200 [==============================] - 9s 8ms/step - loss: 0.2311 - accuracy: 0.9123 - val_loss: 0.2939 - val_accuracy: 0.8941\n",
      "Epoch 10/10\n",
      "1200/1200 [==============================] - 10s 8ms/step - loss: 0.2225 - accuracy: 0.9173 - val_loss: 0.2901 - val_accuracy: 0.8952\n",
      "> 89.600\n",
      "Epoch 1/10\n",
      "1200/1200 [==============================] - 10s 8ms/step - loss: 0.9025 - accuracy: 0.6848 - val_loss: 0.4440 - val_accuracy: 0.8409\n",
      "Epoch 2/10\n",
      "1200/1200 [==============================] - 9s 8ms/step - loss: 0.4247 - accuracy: 0.8447 - val_loss: 0.3936 - val_accuracy: 0.8602\n",
      "Epoch 3/10\n",
      "1200/1200 [==============================] - 9s 8ms/step - loss: 0.3679 - accuracy: 0.8679 - val_loss: 0.3528 - val_accuracy: 0.8755\n",
      "Epoch 4/10\n",
      "1200/1200 [==============================] - 9s 8ms/step - loss: 0.3356 - accuracy: 0.8783 - val_loss: 0.3297 - val_accuracy: 0.8814\n",
      "Epoch 5/10\n",
      "1200/1200 [==============================] - 9s 8ms/step - loss: 0.3039 - accuracy: 0.8880 - val_loss: 0.3394 - val_accuracy: 0.8776\n",
      "Epoch 6/10\n",
      "1200/1200 [==============================] - 9s 8ms/step - loss: 0.2819 - accuracy: 0.8959 - val_loss: 0.3173 - val_accuracy: 0.8883\n",
      "Epoch 7/10\n",
      "1200/1200 [==============================] - 10s 8ms/step - loss: 0.2668 - accuracy: 0.9002 - val_loss: 0.3010 - val_accuracy: 0.8944\n",
      "Epoch 8/10\n",
      "1200/1200 [==============================] - 10s 8ms/step - loss: 0.2493 - accuracy: 0.9084 - val_loss: 0.3088 - val_accuracy: 0.8915\n",
      "Epoch 9/10\n",
      "1200/1200 [==============================] - 10s 8ms/step - loss: 0.2400 - accuracy: 0.9124 - val_loss: 0.2906 - val_accuracy: 0.8988\n",
      "Epoch 10/10\n",
      "1200/1200 [==============================] - 10s 8ms/step - loss: 0.2189 - accuracy: 0.9190 - val_loss: 0.2855 - val_accuracy: 0.8989\n",
      "> 90.192\n",
      "Epoch 1/10\n",
      "1200/1200 [==============================] - 11s 9ms/step - loss: 0.8888 - accuracy: 0.6918 - val_loss: 0.4820 - val_accuracy: 0.8209\n",
      "Epoch 2/10\n",
      "1200/1200 [==============================] - 10s 8ms/step - loss: 0.4620 - accuracy: 0.8334 - val_loss: 0.4003 - val_accuracy: 0.8537\n",
      "Epoch 3/10\n",
      "1200/1200 [==============================] - 10s 8ms/step - loss: 0.3855 - accuracy: 0.8580 - val_loss: 0.3701 - val_accuracy: 0.8658\n",
      "Epoch 4/10\n",
      "1200/1200 [==============================] - 10s 8ms/step - loss: 0.3433 - accuracy: 0.8759 - val_loss: 0.3414 - val_accuracy: 0.8770\n",
      "Epoch 5/10\n",
      "1200/1200 [==============================] - 10s 8ms/step - loss: 0.3174 - accuracy: 0.8839 - val_loss: 0.3277 - val_accuracy: 0.8779\n",
      "Epoch 6/10\n",
      "1200/1200 [==============================] - 10s 8ms/step - loss: 0.3014 - accuracy: 0.8878 - val_loss: 0.3169 - val_accuracy: 0.8860\n",
      "Epoch 7/10\n",
      "1200/1200 [==============================] - 10s 8ms/step - loss: 0.2722 - accuracy: 0.9012 - val_loss: 0.2964 - val_accuracy: 0.8932\n",
      "Epoch 8/10\n",
      "1200/1200 [==============================] - 10s 8ms/step - loss: 0.2568 - accuracy: 0.9057 - val_loss: 0.3047 - val_accuracy: 0.8909\n",
      "Epoch 9/10\n",
      "1200/1200 [==============================] - 10s 8ms/step - loss: 0.2409 - accuracy: 0.9126 - val_loss: 0.2829 - val_accuracy: 0.8950\n",
      "Epoch 10/10\n",
      "1200/1200 [==============================] - 10s 8ms/step - loss: 0.2266 - accuracy: 0.9168 - val_loss: 0.2847 - val_accuracy: 0.8975\n",
      "> 89.392\n",
      "Epoch 1/10\n",
      "1200/1200 [==============================] - 10s 8ms/step - loss: 0.9060 - accuracy: 0.6720 - val_loss: 0.4974 - val_accuracy: 0.8204\n",
      "Epoch 2/10\n",
      "1200/1200 [==============================] - 10s 8ms/step - loss: 0.4477 - accuracy: 0.8381 - val_loss: 0.4054 - val_accuracy: 0.8518\n",
      "Epoch 3/10\n",
      "1200/1200 [==============================] - 10s 8ms/step - loss: 0.3741 - accuracy: 0.8664 - val_loss: 0.3854 - val_accuracy: 0.8606\n",
      "Epoch 4/10\n",
      "1200/1200 [==============================] - 10s 8ms/step - loss: 0.3383 - accuracy: 0.8769 - val_loss: 0.3358 - val_accuracy: 0.8774\n",
      "Epoch 5/10\n",
      "1200/1200 [==============================] - 10s 8ms/step - loss: 0.3033 - accuracy: 0.8890 - val_loss: 0.3342 - val_accuracy: 0.8780\n",
      "Epoch 6/10\n",
      "1200/1200 [==============================] - 10s 8ms/step - loss: 0.2904 - accuracy: 0.8946 - val_loss: 0.3174 - val_accuracy: 0.8836\n",
      "Epoch 7/10\n",
      "1200/1200 [==============================] - 10s 8ms/step - loss: 0.2724 - accuracy: 0.9016 - val_loss: 0.2970 - val_accuracy: 0.8909\n",
      "Epoch 8/10\n",
      "1200/1200 [==============================] - 10s 8ms/step - loss: 0.2501 - accuracy: 0.9080 - val_loss: 0.3060 - val_accuracy: 0.8859\n",
      "Epoch 9/10\n",
      "1200/1200 [==============================] - 10s 8ms/step - loss: 0.2355 - accuracy: 0.9140 - val_loss: 0.2824 - val_accuracy: 0.8984\n",
      "Epoch 10/10\n",
      "1200/1200 [==============================] - 10s 8ms/step - loss: 0.2287 - accuracy: 0.9176 - val_loss: 0.2800 - val_accuracy: 0.8984\n",
      "> 90.017\n"
     ]
    }
   ],
   "source": [
    "with tf.device(device_name):\n",
    "    arr = [1, 1, 0, 1, 0, 0, 0, 0]\n",
    "    # define kfold\n",
    "    scores, histories = list(), list()\n",
    "    # prepare cross validation\n",
    "    n_folds = 5\n",
    "    kfold = KFold(n_folds, shuffle=True, random_state=1)\n",
    "    # enumerate splits\n",
    "    for train_ix, test_ix in kfold.split(dataX):\n",
    "        # define model\n",
    "        model = define_model_ga(arr)\n",
    "        callback = tf.keras.callbacks.EarlyStopping(patience=3)\n",
    "        # select rows for train and test\n",
    "        trainX, trainY, testX, testY = dataX[train_ix], dataY[train_ix], dataX[test_ix], dataY[test_ix]\n",
    "        # fit model\n",
    "        history = model.fit(trainX, trainY, epochs=20, batch_size=32, validation_split = 0.2, verbose=0)\n",
    "        # evaluate model\n",
    "        _, acc = model.evaluate(testX, testY, verbose=0)\n",
    "        print('> %.3f' % (acc * 100.0))\n",
    "        # append scores\n",
    "        scores.append(acc)\n",
    "        histories.append(history)"
   ]
  },
  {
   "cell_type": "code",
   "execution_count": 46,
   "id": "a2dda0ae-c585-4333-a189-3cd749305b1a",
   "metadata": {},
   "outputs": [
    {
     "data": {
      "text/plain": [
       "0.8919166723887125"
      ]
     },
     "execution_count": 46,
     "metadata": {},
     "output_type": "execute_result"
    }
   ],
   "source": [
    "mean(scores)"
   ]
  },
  {
   "cell_type": "code",
   "execution_count": null,
   "id": "843932ee-3075-4194-9898-b03a17d7d9d2",
   "metadata": {},
   "outputs": [],
   "source": []
  }
 ],
 "metadata": {
  "kernelspec": {
   "display_name": "Python 3",
   "language": "python",
   "name": "python3"
  },
  "language_info": {
   "codemirror_mode": {
    "name": "ipython",
    "version": 3
   },
   "file_extension": ".py",
   "mimetype": "text/x-python",
   "name": "python",
   "nbconvert_exporter": "python",
   "pygments_lexer": "ipython3",
   "version": "3.8.12"
  }
 },
 "nbformat": 4,
 "nbformat_minor": 5
}
