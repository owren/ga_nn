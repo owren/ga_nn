{
 "cells": [
  {
   "cell_type": "code",
   "execution_count": 6,
   "id": "4fe18a62-45bf-4668-b59c-4ba82e8560d3",
   "metadata": {},
   "outputs": [],
   "source": [
    "import numpy as np"
   ]
  },
  {
   "cell_type": "code",
   "execution_count": 11,
   "id": "403b1964-c362-480f-ade7-3ff7982b739e",
   "metadata": {},
   "outputs": [],
   "source": [
    "\"\"\"\n",
    "The target is to maximize the accuracy of the cnn-mnist model:\n",
    "    We start by having a few decisions related to the model. \n",
    "    x1 = 32 or 64 (or 128) filters in each CNN layer\n",
    "    x2 = 50 or 100 neurons in first dense layer\n",
    "    x3 = 1 or 2 CNN layers\n",
    "    x4 = he_uniform or random_normal\n",
    "    x5 = no dropout, (0.1 dropout,) 0.2 dropout\n",
    "    x6 = learning rate 0.005, (0.01) or 0.05 \n",
    "    x7 = kernel size cnn 2, 3\n",
    "    We will use a genetic algorithm to find the best combinations of these hyperparameters. \n",
    "    The fitness-function is based on model accuracy on test-dataset. \n",
    "\"\"\"\n",
    "num_weights = 7\n",
    "\n",
    "# solutions per populations and number of mating parents\n",
    "sol_per_pop = 8\n",
    "num_parents_mating = 4"
   ]
  },
  {
   "cell_type": "code",
   "execution_count": 12,
   "id": "94d1db0f-dbdb-44e1-9f35-2fe39c4698e8",
   "metadata": {},
   "outputs": [
    {
     "name": "stdout",
     "output_type": "stream",
     "text": [
      "[[0 1 0 1 0 1 0]\n",
      " [1 1 1 0 1 0 1]\n",
      " [1 0 0 0 1 1 0]\n",
      " [1 0 1 1 1 1 0]\n",
      " [0 0 0 1 0 0 1]\n",
      " [0 0 0 0 0 0 1]\n",
      " [1 1 1 1 0 1 0]\n",
      " [0 1 0 0 1 1 0]]\n"
     ]
    }
   ],
   "source": [
    "# Defining the population size.\n",
    "pop_size = (sol_per_pop,num_weights) # The population will have sol_per_pop chromosome where each chromosome has num_weights genes.\n",
    "#Creating the initial population.\n",
    "new_population = np.random.randint(low=0, high=2, size=pop_size)\n",
    "print(new_population)"
   ]
  },
  {
   "cell_type": "code",
   "execution_count": null,
   "id": "84c2d392-3dbd-4ae8-b1c3-86f4fa9ea620",
   "metadata": {},
   "outputs": [],
   "source": []
  }
 ],
 "metadata": {
  "kernelspec": {
   "display_name": "Python 3",
   "language": "python",
   "name": "python3"
  },
  "language_info": {
   "codemirror_mode": {
    "name": "ipython",
    "version": 3
   },
   "file_extension": ".py",
   "mimetype": "text/x-python",
   "name": "python",
   "nbconvert_exporter": "python",
   "pygments_lexer": "ipython3",
   "version": "3.8.12"
  }
 },
 "nbformat": 4,
 "nbformat_minor": 5
}
